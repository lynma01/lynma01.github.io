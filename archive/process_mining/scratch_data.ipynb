{
 "cells": [
  {
   "cell_type": "code",
   "execution_count": 2,
   "metadata": {},
   "outputs": [],
   "source": [
    "from faker import Faker\n",
    "import pandas as pd\n",
    "from numpy.random import default_rng\n",
    "from dataclasses import dataclass"
   ]
  },
  {
   "cell_type": "code",
   "execution_count": 3,
   "metadata": {},
   "outputs": [],
   "source": [
    "rng = default_rng()"
   ]
  },
  {
   "cell_type": "code",
   "execution_count": 4,
   "metadata": {},
   "outputs": [
    {
     "data": {
      "text/plain": [
       "{'username': 'denisewilliams',\n",
       " 'name': 'Angela Smith',\n",
       " 'sex': 'F',\n",
       " 'address': '4702 Jones Mills Suite 556\\nCardenasside, VT 24337',\n",
       " 'mail': 'hperez@gmail.com',\n",
       " 'birthdate': datetime.date(1912, 1, 2),\n",
       " 'random_value': -0.32417562596725674}"
      ]
     },
     "execution_count": 4,
     "metadata": {},
     "output_type": "execute_result"
    }
   ],
   "source": [
    "# Create fake person\n",
    "fake = Faker()\n",
    "profile = fake.simple_profile()\n",
    "profile[\"random_value\"] = rng.standard_normal()\n",
    "profile"
   ]
  },
  {
   "cell_type": "code",
   "execution_count": 5,
   "metadata": {},
   "outputs": [],
   "source": [
    "@dataclass\n",
    "class SpaceshipCaptain:\n",
    "    name: str = fake.name()\n",
    "    ship_id: str = fake.bothify(text='UNS_SHIPID: ????-###########')"
   ]
  },
  {
   "cell_type": "code",
   "execution_count": 6,
   "metadata": {},
   "outputs": [],
   "source": [
    "@dataclass\n",
    "class DockingBay:\n",
    "    id: str = fake.bothify(text='BAY-###????')\n",
    "    cargo_capacity: int = rng.standard_normal()*18000"
   ]
  },
  {
   "cell_type": "code",
   "execution_count": 9,
   "metadata": {},
   "outputs": [
    {
     "data": {
      "text/plain": [
       "'{\"Name\": \"Mark Crane\", \"Points\": 61}'"
      ]
     },
     "execution_count": 9,
     "metadata": {},
     "output_type": "execute_result"
    }
   ],
   "source": [
    "fake.json(data_columns=[('Name', 'name'), ('Points', 'pyint', {'min_value':50, 'max_value':100})], num_rows=1)"
   ]
  },
  {
   "cell_type": "code",
   "execution_count": 7,
   "metadata": {},
   "outputs": [],
   "source": [
    "@dataclass\n",
    "class FreightContainer:\n",
    "    id: str = fake.bothify(text=\"?#?#?#?#?-????#########\")\n",
    "    "
   ]
  },
  {
   "cell_type": "code",
   "execution_count": 8,
   "metadata": {},
   "outputs": [
    {
     "data": {
      "text/plain": [
       "FreightContainer(id='W4Q2l6K2o-xoSk106508401')"
      ]
     },
     "execution_count": 8,
     "metadata": {},
     "output_type": "execute_result"
    }
   ],
   "source": [
    "container_1 = FreightContainer()\n",
    "container_1"
   ]
  },
  {
   "cell_type": "markdown",
   "metadata": {},
   "source": [
    "# Fake job process\n",
    "\n",
    "1. Space ship approaches docking bay\n",
    "2. Ground crew preps gantries\n",
    "3. Gantries catch the ship\n",
    "4. Docking ring is extended\n",
    "5. Cargo rails latch to the bay entries"
   ]
  },
  {
   "cell_type": "code",
   "execution_count": 7,
   "metadata": {},
   "outputs": [
    {
     "data": {
      "text/html": [
       "<div>\n",
       "<style scoped>\n",
       "    .dataframe tbody tr th:only-of-type {\n",
       "        vertical-align: middle;\n",
       "    }\n",
       "\n",
       "    .dataframe tbody tr th {\n",
       "        vertical-align: top;\n",
       "    }\n",
       "\n",
       "    .dataframe thead th {\n",
       "        text-align: right;\n",
       "    }\n",
       "</style>\n",
       "<table border=\"1\" class=\"dataframe\">\n",
       "  <thead>\n",
       "    <tr style=\"text-align: right;\">\n",
       "      <th></th>\n",
       "      <th>col1</th>\n",
       "    </tr>\n",
       "  </thead>\n",
       "  <tbody>\n",
       "    <tr>\n",
       "      <th>0</th>\n",
       "      <td>0.056821</td>\n",
       "    </tr>\n",
       "    <tr>\n",
       "      <th>1</th>\n",
       "      <td>2.257656</td>\n",
       "    </tr>\n",
       "    <tr>\n",
       "      <th>2</th>\n",
       "      <td>-0.039503</td>\n",
       "    </tr>\n",
       "    <tr>\n",
       "      <th>3</th>\n",
       "      <td>-0.932070</td>\n",
       "    </tr>\n",
       "    <tr>\n",
       "      <th>4</th>\n",
       "      <td>0.566212</td>\n",
       "    </tr>\n",
       "    <tr>\n",
       "      <th>5</th>\n",
       "      <td>-0.162951</td>\n",
       "    </tr>\n",
       "    <tr>\n",
       "      <th>6</th>\n",
       "      <td>-1.054270</td>\n",
       "    </tr>\n",
       "    <tr>\n",
       "      <th>7</th>\n",
       "      <td>1.175093</td>\n",
       "    </tr>\n",
       "    <tr>\n",
       "      <th>8</th>\n",
       "      <td>-1.148986</td>\n",
       "    </tr>\n",
       "    <tr>\n",
       "      <th>9</th>\n",
       "      <td>0.205253</td>\n",
       "    </tr>\n",
       "  </tbody>\n",
       "</table>\n",
       "</div>"
      ],
      "text/plain": [
       "       col1\n",
       "0  0.056821\n",
       "1  2.257656\n",
       "2 -0.039503\n",
       "3 -0.932070\n",
       "4  0.566212\n",
       "5 -0.162951\n",
       "6 -1.054270\n",
       "7  1.175093\n",
       "8 -1.148986\n",
       "9  0.205253"
      ]
     },
     "execution_count": 7,
     "metadata": {},
     "output_type": "execute_result"
    }
   ],
   "source": [
    "df = pd.DataFrame(\n",
    "    {\"col1\": vals}\n",
    ")\n",
    "df"
   ]
  },
  {
   "cell_type": "code",
   "execution_count": 18,
   "metadata": {},
   "outputs": [
    {
     "data": {
      "text/html": [
       "  <iframe srcdoc='\n",
       "<!DOCTYPE html>\n",
       "<html lang=\"en\">\n",
       "  <head>\n",
       "    <title>Cog Graph</title>\n",
       "    <style type=\"text/css\">\n",
       "       body {\n",
       "        padding: 0;\n",
       "        margin: 0;\n",
       "        width: 100%;!important; \n",
       "        height: 100%;!important; \n",
       "      }\n",
       "\n",
       "      #cog-graph-view {\n",
       "        width: 700px;\n",
       "        height: 700px;\n",
       "      }\n",
       "    </style>\n",
       "\n",
       "\n",
       "    <script\n",
       "      type=\"text/javascript\"\n",
       "      src=\"https://cdnjs.cloudflare.com/ajax/libs/vis-network/9.1.2/dist/vis-network.min.js\"\n",
       "    ></script>\n",
       "  </head>  \n",
       " \n",
       "  <body>\n",
       "    <div id=\"cog-graph-view\"></div>\n",
       "\n",
       "    <script type=\"text/javascript\">\n",
       "\n",
       "    results =[{\"id\": \"alice\", \"from\": \"bob\", \"to\": \"alice\"}, {\"id\": \"bob\", \"from\": \"alice\", \"to\": \"bob\"}] \n",
       "\n",
       "    var nodes = new vis.DataSet();\n",
       "    var edges = new vis.DataSet();\n",
       "    for (let i = 0; i < results.length; i++) {\n",
       "        res = results[i];\n",
       "        nodes.update({\n",
       "            id: res.from,\n",
       "            label: res.from\n",
       "        });\n",
       "        nodes.update({\n",
       "            id: res.to,\n",
       "            label: res.to\n",
       "        });\n",
       "        edges.update({\n",
       "            from: res.from,\n",
       "            to: res.to\n",
       "        });\n",
       "\n",
       "    }\n",
       "\n",
       "    var container = document.getElementById(\"cog-graph-view\");\n",
       "    var data = {\n",
       "        nodes: nodes,\n",
       "        edges: edges,\n",
       "    };\n",
       "    var options = {\n",
       "        nodes: {\n",
       "            font: {\n",
       "                size: 20,\n",
       "                color: \"black\"\n",
       "            },\n",
       "            color: \"#46944f\",\n",
       "            shape: \"dot\",\n",
       "            widthConstraint: 200,\n",
       "\n",
       "        },\n",
       "        edges: {\n",
       "            font: \"12px arial #ff0000\",\n",
       "            scaling: {\n",
       "                label: true,\n",
       "            },\n",
       "            shadow: true,\n",
       "            smooth: true,\n",
       "            arrows: { to: {enabled: true}}\n",
       "        },\n",
       "        physics: {\n",
       "            barnesHut: {\n",
       "                gravitationalConstant: -30000\n",
       "            },\n",
       "            stabilization: {\n",
       "                iterations: 1000\n",
       "            },\n",
       "        }\n",
       "\n",
       "    };\n",
       "    var network = new vis.Network(container, data, options);\n",
       "    </script>\n",
       "  </body>\n",
       "</html>\n",
       "\n",
       "' width=\"700\" height=\"700\"> </iframe> "
      ],
      "text/plain": [
       "<IPython.core.display.HTML object>"
      ]
     },
     "metadata": {},
     "output_type": "display_data"
    }
   ],
   "source": [
    "from cog.torque import Graph\n",
    "g = Graph(\"people\")\n",
    "g.put(\"alice\" , \"follows\", \"bob\")\n",
    "g.put(\"bob\", \"follows\", \"alice\")\n",
    "\n",
    "g.v().tag(\"from\").out(\"follows\").tag(\"to\").view(\"follows\").render()"
   ]
  },
  {
   "cell_type": "code",
   "execution_count": null,
   "metadata": {},
   "outputs": [],
   "source": []
  }
 ],
 "metadata": {
  "kernelspec": {
   "display_name": "Python 3.10.5 ('.venv': poetry)",
   "language": "python",
   "name": "python3"
  },
  "language_info": {
   "codemirror_mode": {
    "name": "ipython",
    "version": 3
   },
   "file_extension": ".py",
   "mimetype": "text/x-python",
   "name": "python",
   "nbconvert_exporter": "python",
   "pygments_lexer": "ipython3",
   "version": "3.10.5 (main, Jul 26 2022, 20:27:47) [Clang 13.1.6 (clang-1316.0.21.2.5)]"
  },
  "orig_nbformat": 4,
  "vscode": {
   "interpreter": {
    "hash": "22fe40e08c8833ed73c9cb7046b4d5543af0fd8e2d9936a190d3b364c6ec4b70"
   }
  }
 },
 "nbformat": 4,
 "nbformat_minor": 2
}
