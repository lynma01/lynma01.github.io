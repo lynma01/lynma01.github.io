{
  "cells": [
    {
      "cell_type": "raw",
      "metadata": {},
      "source": [
        "---\n",
        "title: \"Climate change and the threat to civilization\"\n",
        "description: pass\n",
        "date: 11/09/2022\n",
        "\n",
        "author:\n",
        "  - name: Matthew Lyn\n",
        "    url: https://www.github.io/lynma01\n",
        "\n",
        "format:\n",
        "  html:\n",
        "    code-fold: true\n",
        "    page-layout: full\n",
        "toc: true\n",
        "number-sections: true\n",
        "\n",
        "draft: true\n",
        "---"
      ],
      "id": "2e76bfeb"
    },
    {
      "cell_type": "markdown",
      "metadata": {},
      "source": [
        "## How do we measure civilization-collapse?\n",
        "1. How are current civilizations performing?\n",
        "2. If we were to create a model of civilization-collapse, what should be included?\n",
        "\n",
        "## There's local collapse, regional collapse, and civilizational collapse.\n",
        "\n",
        "In turn, the mechanisms by which these collapses occur are: 1) direct impacts, 2) socio-climate feedbacks, and 3) exogenous shock vulnerability.\n"
      ],
      "id": "e38d3c4f"
    },
    {
      "cell_type": "code",
      "metadata": {},
      "source": [
        "print(1 + 1)"
      ],
      "id": "8e1e40fe",
      "execution_count": null,
      "outputs": []
    }
  ],
  "metadata": {
    "kernelspec": {
      "display_name": "Python 3",
      "language": "python",
      "name": "python3"
    }
  },
  "nbformat": 4,
  "nbformat_minor": 5
}