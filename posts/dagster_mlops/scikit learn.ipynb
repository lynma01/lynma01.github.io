{
 "cells": [
  {
   "cell_type": "code",
   "execution_count": 4,
   "metadata": {},
   "outputs": [],
   "source": [
    "from prefect import flow, task\n",
    "import requests"
   ]
  },
  {
   "cell_type": "code",
   "execution_count": 2,
   "metadata": {},
   "outputs": [
    {
     "data": {
      "text/html": [
       "<pre style=\"white-space:pre;overflow-x:auto;line-height:normal;font-family:Menlo,'DejaVu Sans Mono',consolas,'Courier New',monospace\">12:13:31.318 | <span style=\"color: #008080; text-decoration-color: #008080\">INFO</span>    | prefect.engine - Created flow run<span style=\"color: #800080; text-decoration-color: #800080\"> 'petite-pigeon'</span> for flow<span style=\"color: #800080; text-decoration-color: #800080; font-weight: bold\"> 'my-favorite-function'</span>\n",
       "</pre>\n"
      ],
      "text/plain": [
       "12:13:31.318 | \u001b[36mINFO\u001b[0m    | prefect.engine - Created flow run\u001b[35m 'petite-pigeon'\u001b[0m for flow\u001b[1;35m 'my-favorite-function'\u001b[0m\n"
      ]
     },
     "metadata": {},
     "output_type": "display_data"
    },
    {
     "name": "stdout",
     "output_type": "stream",
     "text": [
      "what's your favorite number?\n"
     ]
    },
    {
     "data": {
      "text/html": [
       "<pre style=\"white-space:pre;overflow-x:auto;line-height:normal;font-family:Menlo,'DejaVu Sans Mono',consolas,'Courier New',monospace\">12:13:31.678 | <span style=\"color: #008080; text-decoration-color: #008080\">INFO</span>    | Flow run<span style=\"color: #800080; text-decoration-color: #800080\"> 'petite-pigeon'</span> - Finished in state <span style=\"color: #008000; text-decoration-color: #008000\">Completed</span>()\n",
       "</pre>\n"
      ],
      "text/plain": [
       "12:13:31.678 | \u001b[36mINFO\u001b[0m    | Flow run\u001b[35m 'petite-pigeon'\u001b[0m - Finished in state \u001b[32mCompleted\u001b[0m()\n"
      ]
     },
     "metadata": {},
     "output_type": "display_data"
    },
    {
     "name": "stdout",
     "output_type": "stream",
     "text": [
      "42\n"
     ]
    }
   ],
   "source": [
    "@flow\n",
    "def my_favorite_function():\n",
    "    print(\"what's your favorite number?\")\n",
    "    return 42\n",
    "\n",
    "print(my_favorite_function())"
   ]
  },
  {
   "cell_type": "code",
   "execution_count": 7,
   "metadata": {},
   "outputs": [
    {
     "name": "stderr",
     "output_type": "stream",
     "text": [
      "/Users/matthewlyn/Documents/Repos/lynma01.github.io/.venv/lib/python3.10/site-packages/prefect/tasks.py:206: UserWarning: A task named 'call_api' and defined at '/var/folders/r9/g_2qy4nd6xq_wh9nqg0crf900000gn/T/ipykernel_51070/1387272889.py:1' conflicts with another task. Consider specifying a unique `name` parameter in the task definition:\n",
      "\n",
      " `@task(name='my_unique_name', ...)`\n",
      "  warnings.warn(\n",
      "/Users/matthewlyn/Documents/Repos/lynma01.github.io/.venv/lib/python3.10/site-packages/prefect/flows.py:206: UserWarning: A flow named 'api-flow' and defined at '/var/folders/r9/g_2qy4nd6xq_wh9nqg0crf900000gn/T/ipykernel_51070/1387272889.py:13' conflicts with another flow. Consider specifying a unique `name` parameter in the flow definition:\n",
      "\n",
      " `@flow(name='my_unique_name', ...)`\n",
      "  warnings.warn(\n"
     ]
    },
    {
     "data": {
      "text/html": [
       "<pre style=\"white-space:pre;overflow-x:auto;line-height:normal;font-family:Menlo,'DejaVu Sans Mono',consolas,'Courier New',monospace\">12:17:38.701 | <span style=\"color: #008080; text-decoration-color: #008080\">INFO</span>    | prefect.engine - Created flow run<span style=\"color: #800080; text-decoration-color: #800080\"> 'secret-crab'</span> for flow<span style=\"color: #800080; text-decoration-color: #800080; font-weight: bold\"> 'api-flow'</span>\n",
       "</pre>\n"
      ],
      "text/plain": [
       "12:17:38.701 | \u001b[36mINFO\u001b[0m    | prefect.engine - Created flow run\u001b[35m 'secret-crab'\u001b[0m for flow\u001b[1;35m 'api-flow'\u001b[0m\n"
      ]
     },
     "metadata": {},
     "output_type": "display_data"
    },
    {
     "data": {
      "text/html": [
       "<pre style=\"white-space:pre;overflow-x:auto;line-height:normal;font-family:Menlo,'DejaVu Sans Mono',consolas,'Courier New',monospace\">12:17:39.210 | <span style=\"color: #008080; text-decoration-color: #008080\">INFO</span>    | Flow run<span style=\"color: #800080; text-decoration-color: #800080\"> 'secret-crab'</span> - Created task run 'call_api-ded10bed-0' for task 'call_api'\n",
       "</pre>\n"
      ],
      "text/plain": [
       "12:17:39.210 | \u001b[36mINFO\u001b[0m    | Flow run\u001b[35m 'secret-crab'\u001b[0m - Created task run 'call_api-ded10bed-0' for task 'call_api'\n"
      ]
     },
     "metadata": {},
     "output_type": "display_data"
    },
    {
     "data": {
      "text/html": [
       "<pre style=\"white-space:pre;overflow-x:auto;line-height:normal;font-family:Menlo,'DejaVu Sans Mono',consolas,'Courier New',monospace\">12:17:39.213 | <span style=\"color: #008080; text-decoration-color: #008080\">INFO</span>    | Flow run<span style=\"color: #800080; text-decoration-color: #800080\"> 'secret-crab'</span> - Executing 'call_api-ded10bed-0' immediately...\n",
       "</pre>\n"
      ],
      "text/plain": [
       "12:17:39.213 | \u001b[36mINFO\u001b[0m    | Flow run\u001b[35m 'secret-crab'\u001b[0m - Executing 'call_api-ded10bed-0' immediately...\n"
      ]
     },
     "metadata": {},
     "output_type": "display_data"
    },
    {
     "name": "stdout",
     "output_type": "stream",
     "text": [
      "200\n"
     ]
    },
    {
     "data": {
      "text/html": [
       "<pre style=\"white-space:pre;overflow-x:auto;line-height:normal;font-family:Menlo,'DejaVu Sans Mono',consolas,'Courier New',monospace\">12:17:39.453 | <span style=\"color: #008080; text-decoration-color: #008080\">INFO</span>    | Task run 'call_api-ded10bed-0' - Finished in state <span style=\"color: #008000; text-decoration-color: #008000\">Completed</span>()\n",
       "</pre>\n"
      ],
      "text/plain": [
       "12:17:39.453 | \u001b[36mINFO\u001b[0m    | Task run 'call_api-ded10bed-0' - Finished in state \u001b[32mCompleted\u001b[0m()\n"
      ]
     },
     "metadata": {},
     "output_type": "display_data"
    },
    {
     "data": {
      "text/html": [
       "<pre style=\"white-space:pre;overflow-x:auto;line-height:normal;font-family:Menlo,'DejaVu Sans Mono',consolas,'Courier New',monospace\">12:17:39.529 | <span style=\"color: #008080; text-decoration-color: #008080\">INFO</span>    | Flow run<span style=\"color: #800080; text-decoration-color: #800080\"> 'secret-crab'</span> - Created task run 'parse_fact-6803447a-0' for task 'parse_fact'\n",
       "</pre>\n"
      ],
      "text/plain": [
       "12:17:39.529 | \u001b[36mINFO\u001b[0m    | Flow run\u001b[35m 'secret-crab'\u001b[0m - Created task run 'parse_fact-6803447a-0' for task 'parse_fact'\n"
      ]
     },
     "metadata": {},
     "output_type": "display_data"
    },
    {
     "data": {
      "text/html": [
       "<pre style=\"white-space:pre;overflow-x:auto;line-height:normal;font-family:Menlo,'DejaVu Sans Mono',consolas,'Courier New',monospace\">12:17:39.533 | <span style=\"color: #008080; text-decoration-color: #008080\">INFO</span>    | Flow run<span style=\"color: #800080; text-decoration-color: #800080\"> 'secret-crab'</span> - Executing 'parse_fact-6803447a-0' immediately...\n",
       "</pre>\n"
      ],
      "text/plain": [
       "12:17:39.533 | \u001b[36mINFO\u001b[0m    | Flow run\u001b[35m 'secret-crab'\u001b[0m - Executing 'parse_fact-6803447a-0' immediately...\n"
      ]
     },
     "metadata": {},
     "output_type": "display_data"
    },
    {
     "name": "stdout",
     "output_type": "stream",
     "text": [
      "A cat has the power to sometimes heal themselves by purring. A domestic cat's purr has a frequency of between 25 and 150 Hertz, which happens to be the frequency at which muscles and bones best grow and repair themselves. \n"
     ]
    },
    {
     "data": {
      "text/html": [
       "<pre style=\"white-space:pre;overflow-x:auto;line-height:normal;font-family:Menlo,'DejaVu Sans Mono',consolas,'Courier New',monospace\">12:17:39.682 | <span style=\"color: #008080; text-decoration-color: #008080\">INFO</span>    | Task run 'parse_fact-6803447a-0' - Finished in state <span style=\"color: #008000; text-decoration-color: #008000\">Completed</span>()\n",
       "</pre>\n"
      ],
      "text/plain": [
       "12:17:39.682 | \u001b[36mINFO\u001b[0m    | Task run 'parse_fact-6803447a-0' - Finished in state \u001b[32mCompleted\u001b[0m()\n"
      ]
     },
     "metadata": {},
     "output_type": "display_data"
    },
    {
     "data": {
      "text/html": [
       "<pre style=\"white-space:pre;overflow-x:auto;line-height:normal;font-family:Menlo,'DejaVu Sans Mono',consolas,'Courier New',monospace\">12:17:39.746 | <span style=\"color: #008080; text-decoration-color: #008080\">INFO</span>    | Flow run<span style=\"color: #800080; text-decoration-color: #800080\"> 'secret-crab'</span> - Finished in state <span style=\"color: #008000; text-decoration-color: #008000\">Completed</span>()\n",
       "</pre>\n"
      ],
      "text/plain": [
       "12:17:39.746 | \u001b[36mINFO\u001b[0m    | Flow run\u001b[35m 'secret-crab'\u001b[0m - Finished in state \u001b[32mCompleted\u001b[0m()\n"
      ]
     },
     "metadata": {},
     "output_type": "display_data"
    },
    {
     "name": "stdout",
     "output_type": "stream",
     "text": [
      "A cat has the power to sometimes heal themselves by purring. A domestic cat's purr has a frequency of between 25 and 150 Hertz, which happens to be the frequency at which muscles and bones best grow and repair themselves. \n"
     ]
    }
   ],
   "source": [
    "@task\n",
    "def call_api(url):\n",
    "    response = requests.get(url)\n",
    "    print(response.status_code)\n",
    "    return response.json()\n",
    "\n",
    "@task\n",
    "def parse_fact(response):\n",
    "    fact = response[\"fact\"]\n",
    "    print(fact)\n",
    "    return fact\n",
    "\n",
    "@flow\n",
    "def api_flow(url):\n",
    "    fact_json = call_api(url)\n",
    "    fact_text = parse_fact(fact_json)\n",
    "    return fact_text\n",
    "\n",
    "print(api_flow(\"https://catfact.ninja/fact\"))"
   ]
  },
  {
   "cell_type": "code",
   "execution_count": null,
   "metadata": {},
   "outputs": [],
   "source": []
  }
 ],
 "metadata": {
  "kernelspec": {
   "display_name": ".venv",
   "language": "python",
   "name": "python3"
  },
  "language_info": {
   "codemirror_mode": {
    "name": "ipython",
    "version": 3
   },
   "file_extension": ".py",
   "mimetype": "text/x-python",
   "name": "python",
   "nbconvert_exporter": "python",
   "pygments_lexer": "ipython3",
   "version": "3.10.5"
  },
  "orig_nbformat": 4,
  "vscode": {
   "interpreter": {
    "hash": "22fe40e08c8833ed73c9cb7046b4d5543af0fd8e2d9936a190d3b364c6ec4b70"
   }
  }
 },
 "nbformat": 4,
 "nbformat_minor": 2
}
