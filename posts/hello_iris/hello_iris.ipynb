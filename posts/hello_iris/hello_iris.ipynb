{
  "cells": [
    {
      "cell_type": "raw",
      "metadata": {},
      "source": [
        "---\n",
        "title: \"Hello Iris\"\n",
        "format: html\n",
        "\n",
        "draft: true\n",
        "---"
      ],
      "id": "00f3a798"
    },
    {
      "cell_type": "markdown",
      "metadata": {},
      "source": [
        "# Doing the data science\n"
      ],
      "id": "cadf444f"
    },
    {
      "cell_type": "code",
      "metadata": {},
      "source": [
        "from sklearn import tree\n",
        "from sklearn.metrics import mean_absolute_error\n",
        "from sklearn.model_selection import train_test_split\n",
        "from ucimlrepo import fetch_ucirepo\n",
        "import plotly.express as px\n",
        "import plotly.io as pio\n",
        "import graphviz\n",
        "import numpy as np\n",
        "import pandas as pd\n",
        "import polars as pl"
      ],
      "id": "a1663c0d",
      "execution_count": null,
      "outputs": []
    },
    {
      "cell_type": "code",
      "metadata": {},
      "source": [
        "iris = fetch_ucirepo(id=53)\n",
        "train_X, val_X, train_y, val_y = train_test_split(iris.data.features, iris.data.targets, random_state=0)"
      ],
      "id": "85ffc60d",
      "execution_count": null,
      "outputs": []
    },
    {
      "cell_type": "code",
      "metadata": {},
      "source": [
        "clf = tree.DecisionTreeClassifier()\n",
        "clf = clf.fit(train_X, train_y)"
      ],
      "id": "079dae90",
      "execution_count": null,
      "outputs": []
    },
    {
      "cell_type": "code",
      "metadata": {},
      "source": [
        "predict_X = clf.predict(train_X)"
      ],
      "id": "27abbee4",
      "execution_count": null,
      "outputs": []
    },
    {
      "cell_type": "code",
      "metadata": {},
      "source": [
        "df = px.data.iris()\n",
        "\n",
        "fig = px.scatter(df, x=\"sepal_width\", y=\"sepal_length\", color=\"species\", template=\"simple_white\")\n",
        "\n",
        "fig.show()"
      ],
      "id": "b4fd399d",
      "execution_count": null,
      "outputs": []
    },
    {
      "cell_type": "markdown",
      "metadata": {},
      "source": [
        "# results\n",
        "This is the full decision tree with unsplit data:\n",
        "![decision_tree](hello_iris/images/output.svg)\n",
        "\n",
        "\n",
        "This is the decision tree with split data:"
      ],
      "id": "06d95e8a"
    },
    {
      "cell_type": "code",
      "metadata": {},
      "source": [
        "#| label: export visualization\n",
        "#| echo: false\n",
        "dot_data = tree.export_graphviz(clf, out_file=None, \n",
        "                     feature_names=iris.feature_names,  \n",
        "                     class_names=iris.target_names,  \n",
        "                     filled=True, rounded=True,  \n",
        "                     special_characters=True)  \n",
        "graph = graphviz.Source(dot_data)  \n",
        "graph"
      ],
      "id": "export-visualization",
      "execution_count": null,
      "outputs": []
    }
  ],
  "metadata": {
    "kernelspec": {
      "name": "python3",
      "language": "python",
      "display_name": "Python 3 (ipykernel)"
    }
  },
  "nbformat": 4,
  "nbformat_minor": 5
}