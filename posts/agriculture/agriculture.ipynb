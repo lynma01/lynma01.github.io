{
  "cells": [
    {
      "cell_type": "raw",
      "id": "c1c1c34f",
      "metadata": {},
      "source": [
        "---\n",
        "title: DIY Datalake - dithering around with dbt & duckdb\n",
        "draft: true\n",
        "---"
      ]
    },
    {
      "cell_type": "markdown",
      "id": "2edf11b5",
      "metadata": {},
      "source": [
        "DONE - create duckdb instance"
      ]
    },
    {
      "cell_type": "code",
      "execution_count": null,
      "id": "9cf10429",
      "metadata": {
        "vscode": {
          "languageId": "python"
        }
      },
      "outputs": [],
      "source": [
        "import duckdb\n",
        "import pandas as pd\n",
        "import numpy as np\n",
        "\n",
        "cursor = duckdb.connect(database=':memory:')"
      ]
    },
    {
      "cell_type": "markdown",
      "id": "98ab1895",
      "metadata": {},
      "source": [
        "TODO - read data into pandas dataframes from data folder"
      ]
    },
    {
      "cell_type": "code",
      "execution_count": null,
      "id": "0614d09f",
      "metadata": {
        "vscode": {
          "languageId": "python"
        }
      },
      "outputs": [],
      "source": [
        "my_df = pd.DataFrame.from_dict({'a': [42]})\n",
        "cursor.execute(\"CREATE TABLE my_table AS SELECT * FROM my_df\")\n",
        "cursor.execute(\"INSERT INTO my_table SELECT * FROM my_df\")"
      ]
    },
    {
      "cell_type": "code",
      "execution_count": null,
      "id": "da9c9ec6",
      "metadata": {
        "vscode": {
          "languageId": "python"
        }
      },
      "outputs": [],
      "source": [
        "cursor.execute(\"SELECT * FROM my_table\").fetch_df()\n",
        "\n",
        "headers = df1.iloc[0]\n",
        "df1 = df1[1:]\n",
        "df1.columns = headers\n",
        "df1 = df1.loc[:, df1.columns.notna()]"
      ]
    },
    {
      "cell_type": "markdown",
      "id": "dbfbff09",
      "metadata": {},
      "source": [
        "TODO - find common indeces and normalize data\n",
        "\n",
        "TODO - create visualizations"
      ]
    }
  ],
  "metadata": {
    "kernelspec": {
      "display_name": "Python 3 (ipykernel)",
      "language": "python",
      "name": "python3"
    }
  },
  "nbformat": 4,
  "nbformat_minor": 5
}
