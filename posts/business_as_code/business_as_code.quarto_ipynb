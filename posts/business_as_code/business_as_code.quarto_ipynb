{
  "cells": [
    {
      "cell_type": "markdown",
      "metadata": {},
      "source": [
        "---\n",
        "title: \"Business-as-Code\"\n",
        "date: \"2024-01-27\"\n",
        "draft: true\n",
        "---\n",
        "\n",
        "# Business-as-Code\n",
        "\n",
        "## Concept-in-Brief\n",
        "Which is the stronger organization? The one which shares the same PowerPoint 1,000 times? Or the one which shares its code only once?\n",
        "\n",
        "### What's the Problem?\n",
        "Most businesses, or organizations have an enormous supply of PowerPoints, documents, and/or training materials. Those materials are ephemeral because they were created by managers trying to envision how the world _should be_.\n",
        "\n",
        "The problem, for any member of the organization reading or listenting to all of these ideas, is deciding what to trust; which of these many PowerPoints, documents, or managers' experience  *actually* reflects the reality of what they have to deal with? \n",
        "\n",
        "When rubber hits the road, no one wants to have wasted their time trying to learn a set of processes or procedures which in no way reflect the problems they'll face. If anything, its because of many peoples' continuous experience of having their trust broken by such materials which don't reflect reality that I believe there's so much cynacism in the workplace today. \n",
        "\n",
        "### What does this mean for normal people?\n",
        "Without any reflections of empiricism, managerial authority rests on a flaccid arguement: These materials and experiences are true because they said so. This circular reasoning breeds cynicism; employees are told to have trust in something which is inherently untrustworthy. Likewise, the standard is unfair for managers because their trustworthiness is being judged on criteria outside of their control.\n",
        "\n",
        "There are no silver-bullets in resolving this impasse, but there are some steps which can drive asymetrically high organizational-value at relatively low personal cost: defining the business and it's processes in code. \n",
        "\n",
        "A quick example: imagine for a moment that we are a widget company. We produce and then sell widgets, however, our input and output costs can be highly variable. Very simply using Python:\n"
      ],
      "id": "ae171788"
    },
    {
      "cell_type": "code",
      "metadata": {},
      "source": [
        "import polars as pl\n",
        "from datetime import datetime as dt\n",
        "from faker import Faker\n",
        "import attrs\n",
        "\n",
        "import numpy as np\n",
        "rng = np.random.default_rng(12345)"
      ],
      "id": "82ccf59a",
      "execution_count": null,
      "outputs": []
    },
    {
      "cell_type": "code",
      "metadata": {},
      "source": [
        "wdf = pl.DataFrame(\n",
        "      {\n",
        "        \"name\": [\"Axiomatic-Postulator\", \"Mephistolinator\", \"Thrumbobulator\", \"Calcultroplator\", \"Prefectulationary-Servo\"] \n",
        "        , \"price\": [10000.00, 7500.00, 5500.00, 3000.00, 1500.00]\n",
        "        , \"dist\": [0.45, 0.25, 0.15, 0.10, 0.05]\n",
        "    }\n",
        ")"
      ],
      "id": "0cbfc545",
      "execution_count": null,
      "outputs": []
    },
    {
      "cell_type": "code",
      "metadata": {},
      "source": [
        "@attrs.define\n",
        "class Widget:\n",
        "    widget_data: pl.DataFrame = attrs.field()\n",
        "    name: str = attrs.field(init=False)\n",
        "    price: float = attrs.field(init=False)\n",
        "\n",
        "    @name.default\n",
        "    def _get_name(self):\n",
        "        return np.random.choice(\n",
        "            a=list(self.widget_data.get_column(\"name\"))\n",
        "            , p=list(self.widget_data.get_column(\"dist\"))\n",
        "        )\n",
        "\n",
        "    @price.default\n",
        "    def _get_price(self):\n",
        "        return self.widget_data.filter(\n",
        "            pl.col(\"name\") == self.name).get_column(\"price\")[0]\n",
        "\n",
        "    @classmethod\n",
        "    def from_df(cls, df: pl.DataFrame):\n",
        "        return cls(widget_data = df)"
      ],
      "id": "0ab639b4",
      "execution_count": null,
      "outputs": []
    },
    {
      "cell_type": "code",
      "metadata": {},
      "source": [
        "widget_list = []\n",
        "company_ts = {\n",
        "    \"ts\": []\n",
        "    , \"obj\": []\n",
        "    , \"transaction\": []\n",
        "}\n",
        "\n",
        "def add_widget(widget_list: list) -> list:\n",
        "    return widget_list.append(Widget.from_df(widget_data)) \n",
        "\n",
        "def sell_widget() -> dict:\n",
        "    wd = widget_list[0] \n",
        "    return wd\n",
        "\n",
        "def widget_flow():\n",
        "    pass\n"
      ],
      "id": "fa21e608",
      "execution_count": null,
      "outputs": []
    },
    {
      "cell_type": "markdown",
      "metadata": {},
      "source": [
        "## Other\n",
        "Data analysts as an neo-fuedal-capitalist class (of which I'm a member) are held to a standard set by marketers known as \"Single-Source-of-Truth\" (SST). So whenever a question arises about some slice of reality, our organization can reference one of our many dashboards and feel confident it knows the size and scope of the phenomena it's confronting. \n",
        "\n",
        "However, (besides Finance because they have to sign statements to auditors) most departments within any organization don't have anywhere near the same standards. Most organizational departments   \n",
        "\n",
        "Naturally, these material are theoretical. Managers are, by nature of any organizational hierarchy, the most removed from actually meeting with and interacting with customers. Likewise, Executives, as managers of managers, are even *further* removed than their mid-level or low-level managers.\n",
        "\n",
        "I've always been of the opinion that \"language\" has never been a monolith, especially when it comes to business, code, and communicating with other people. On a scale  technical-writing sits above prose, code sits above technical-writing, until we finally hit pure-mathematics. This is not to say that one's better than the other, rather, that they rest on top of one another like stages on a pyramid. Most of us can't skip steps when it comes to   \n",
        "\n",
        "## References:\n",
        "\n",
        "- https://journals.sagepub.com/doi/full/10.1177/0095327X17747204"
      ],
      "id": "ce7fd383"
    }
  ],
  "metadata": {
    "kernelspec": {
      "display_name": "Python 3",
      "language": "python",
      "name": "python3"
    }
  },
  "nbformat": 4,
  "nbformat_minor": 5
}